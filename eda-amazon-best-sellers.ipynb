{
 "cells": [
  {
   "cell_type": "markdown",
   "metadata": {
    "papermill": {
     "duration": 0.030601,
     "end_time": "2021-02-04T21:15:31.817457",
     "exception": false,
     "start_time": "2021-02-04T21:15:31.786856",
     "status": "completed"
    },
    "tags": []
   },
   "source": [
    "# EXPLORATORY DATA ANALYSIS OF THE DATASET - AMAZON BEST SELLING BOOK OF THE DECADE 2009-2019"
   ]
  },
  {
   "cell_type": "markdown",
   "metadata": {
    "papermill": {
     "duration": 0.02874,
     "end_time": "2021-02-04T21:15:31.875526",
     "exception": false,
     "start_time": "2021-02-04T21:15:31.846786",
     "status": "completed"
    },
    "tags": []
   },
   "source": [
    "Amazon.com is one of the best online shopping site to buy books. in this notebook, lets do a Exploratory Data Analyis to review the top selling book from 2009 to 2019 and analyse the relations ship between the reviews, prices etc which helps the people to buy."
   ]
  },
  {
   "cell_type": "code",
   "execution_count": 1,
   "metadata": {
    "_cell_guid": "b1076dfc-b9ad-4769-8c92-a6c4dae69d19",
    "_uuid": "8f2839f25d086af736a60e9eeb907d3b93b6e0e5",
    "execution": {
     "iopub.execute_input": "2021-02-04T21:15:31.943513Z",
     "iopub.status.busy": "2021-02-04T21:15:31.942676Z",
     "iopub.status.idle": "2021-02-04T21:15:33.029383Z",
     "shell.execute_reply": "2021-02-04T21:15:33.030106Z"
    },
    "papermill": {
     "duration": 1.125763,
     "end_time": "2021-02-04T21:15:33.030461",
     "exception": false,
     "start_time": "2021-02-04T21:15:31.904698",
     "status": "completed"
    },
    "tags": []
   },
   "outputs": [
    {
     "name": "stdout",
     "output_type": "stream",
     "text": [
      "/kaggle/input/amazon-top-50-bestselling-books-2009-2019/bestsellers with categories.csv\n"
     ]
    }
   ],
   "source": [
    "#Importing the important libraries\n",
    "\n",
    "import numpy as np \n",
    "import pandas as pd\n",
    "import matplotlib.pyplot as plt\n",
    "import seaborn as sns\n",
    "sns.set()\n",
    "%matplotlib inline\n",
    "\n",
    "import os\n",
    "for dirname, _, filenames in os.walk('/kaggle/input'):\n",
    "    for filename in filenames:\n",
    "        print(os.path.join(dirname, filename))\n"
   ]
  },
  {
   "cell_type": "markdown",
   "metadata": {
    "papermill": {
     "duration": 0.029529,
     "end_time": "2021-02-04T21:15:33.090642",
     "exception": false,
     "start_time": "2021-02-04T21:15:33.061113",
     "status": "completed"
    },
    "tags": []
   },
   "source": [
    "Reading the dataset"
   ]
  },
  {
   "cell_type": "code",
   "execution_count": 2,
   "metadata": {
    "execution": {
     "iopub.execute_input": "2021-02-04T21:15:33.157242Z",
     "iopub.status.busy": "2021-02-04T21:15:33.156104Z",
     "iopub.status.idle": "2021-02-04T21:15:33.205813Z",
     "shell.execute_reply": "2021-02-04T21:15:33.206468Z"
    },
    "papermill": {
     "duration": 0.086334,
     "end_time": "2021-02-04T21:15:33.206692",
     "exception": false,
     "start_time": "2021-02-04T21:15:33.120358",
     "status": "completed"
    },
    "tags": []
   },
   "outputs": [
    {
     "data": {
      "text/html": [
       "<div>\n",
       "<style scoped>\n",
       "    .dataframe tbody tr th:only-of-type {\n",
       "        vertical-align: middle;\n",
       "    }\n",
       "\n",
       "    .dataframe tbody tr th {\n",
       "        vertical-align: top;\n",
       "    }\n",
       "\n",
       "    .dataframe thead th {\n",
       "        text-align: right;\n",
       "    }\n",
       "</style>\n",
       "<table border=\"1\" class=\"dataframe\">\n",
       "  <thead>\n",
       "    <tr style=\"text-align: right;\">\n",
       "      <th></th>\n",
       "      <th>Name</th>\n",
       "      <th>Author</th>\n",
       "      <th>User Rating</th>\n",
       "      <th>Reviews</th>\n",
       "      <th>Price</th>\n",
       "      <th>Year</th>\n",
       "      <th>Genre</th>\n",
       "    </tr>\n",
       "  </thead>\n",
       "  <tbody>\n",
       "    <tr>\n",
       "      <th>0</th>\n",
       "      <td>10-Day Green Smoothie Cleanse</td>\n",
       "      <td>JJ Smith</td>\n",
       "      <td>4.7</td>\n",
       "      <td>17350</td>\n",
       "      <td>8</td>\n",
       "      <td>2016</td>\n",
       "      <td>Non Fiction</td>\n",
       "    </tr>\n",
       "    <tr>\n",
       "      <th>1</th>\n",
       "      <td>11/22/63: A Novel</td>\n",
       "      <td>Stephen King</td>\n",
       "      <td>4.6</td>\n",
       "      <td>2052</td>\n",
       "      <td>22</td>\n",
       "      <td>2011</td>\n",
       "      <td>Fiction</td>\n",
       "    </tr>\n",
       "    <tr>\n",
       "      <th>2</th>\n",
       "      <td>12 Rules for Life: An Antidote to Chaos</td>\n",
       "      <td>Jordan B. Peterson</td>\n",
       "      <td>4.7</td>\n",
       "      <td>18979</td>\n",
       "      <td>15</td>\n",
       "      <td>2018</td>\n",
       "      <td>Non Fiction</td>\n",
       "    </tr>\n",
       "    <tr>\n",
       "      <th>3</th>\n",
       "      <td>1984 (Signet Classics)</td>\n",
       "      <td>George Orwell</td>\n",
       "      <td>4.7</td>\n",
       "      <td>21424</td>\n",
       "      <td>6</td>\n",
       "      <td>2017</td>\n",
       "      <td>Fiction</td>\n",
       "    </tr>\n",
       "    <tr>\n",
       "      <th>4</th>\n",
       "      <td>5,000 Awesome Facts (About Everything!) (Natio...</td>\n",
       "      <td>National Geographic Kids</td>\n",
       "      <td>4.8</td>\n",
       "      <td>7665</td>\n",
       "      <td>12</td>\n",
       "      <td>2019</td>\n",
       "      <td>Non Fiction</td>\n",
       "    </tr>\n",
       "    <tr>\n",
       "      <th>5</th>\n",
       "      <td>A Dance with Dragons (A Song of Ice and Fire)</td>\n",
       "      <td>George R. R. Martin</td>\n",
       "      <td>4.4</td>\n",
       "      <td>12643</td>\n",
       "      <td>11</td>\n",
       "      <td>2011</td>\n",
       "      <td>Fiction</td>\n",
       "    </tr>\n",
       "    <tr>\n",
       "      <th>6</th>\n",
       "      <td>A Game of Thrones / A Clash of Kings / A Storm...</td>\n",
       "      <td>George R. R. Martin</td>\n",
       "      <td>4.7</td>\n",
       "      <td>19735</td>\n",
       "      <td>30</td>\n",
       "      <td>2014</td>\n",
       "      <td>Fiction</td>\n",
       "    </tr>\n",
       "    <tr>\n",
       "      <th>7</th>\n",
       "      <td>A Gentleman in Moscow: A Novel</td>\n",
       "      <td>Amor Towles</td>\n",
       "      <td>4.7</td>\n",
       "      <td>19699</td>\n",
       "      <td>15</td>\n",
       "      <td>2017</td>\n",
       "      <td>Fiction</td>\n",
       "    </tr>\n",
       "    <tr>\n",
       "      <th>8</th>\n",
       "      <td>A Higher Loyalty: Truth, Lies, and Leadership</td>\n",
       "      <td>James Comey</td>\n",
       "      <td>4.7</td>\n",
       "      <td>5983</td>\n",
       "      <td>3</td>\n",
       "      <td>2018</td>\n",
       "      <td>Non Fiction</td>\n",
       "    </tr>\n",
       "    <tr>\n",
       "      <th>9</th>\n",
       "      <td>A Man Called Ove: A Novel</td>\n",
       "      <td>Fredrik Backman</td>\n",
       "      <td>4.6</td>\n",
       "      <td>23848</td>\n",
       "      <td>8</td>\n",
       "      <td>2016</td>\n",
       "      <td>Fiction</td>\n",
       "    </tr>\n",
       "  </tbody>\n",
       "</table>\n",
       "</div>"
      ],
      "text/plain": [
       "                                                Name  \\\n",
       "0                      10-Day Green Smoothie Cleanse   \n",
       "1                                  11/22/63: A Novel   \n",
       "2            12 Rules for Life: An Antidote to Chaos   \n",
       "3                             1984 (Signet Classics)   \n",
       "4  5,000 Awesome Facts (About Everything!) (Natio...   \n",
       "5      A Dance with Dragons (A Song of Ice and Fire)   \n",
       "6  A Game of Thrones / A Clash of Kings / A Storm...   \n",
       "7                     A Gentleman in Moscow: A Novel   \n",
       "8      A Higher Loyalty: Truth, Lies, and Leadership   \n",
       "9                          A Man Called Ove: A Novel   \n",
       "\n",
       "                     Author  User Rating  Reviews  Price  Year        Genre  \n",
       "0                  JJ Smith          4.7    17350      8  2016  Non Fiction  \n",
       "1              Stephen King          4.6     2052     22  2011      Fiction  \n",
       "2        Jordan B. Peterson          4.7    18979     15  2018  Non Fiction  \n",
       "3             George Orwell          4.7    21424      6  2017      Fiction  \n",
       "4  National Geographic Kids          4.8     7665     12  2019  Non Fiction  \n",
       "5       George R. R. Martin          4.4    12643     11  2011      Fiction  \n",
       "6       George R. R. Martin          4.7    19735     30  2014      Fiction  \n",
       "7               Amor Towles          4.7    19699     15  2017      Fiction  \n",
       "8               James Comey          4.7     5983      3  2018  Non Fiction  \n",
       "9           Fredrik Backman          4.6    23848      8  2016      Fiction  "
      ]
     },
     "execution_count": 2,
     "metadata": {},
     "output_type": "execute_result"
    }
   ],
   "source": [
    "best_b = pd.read_csv('../input/amazon-top-50-bestselling-books-2009-2019/bestsellers with categories.csv')\n",
    "best_b.head(10)"
   ]
  },
  {
   "cell_type": "markdown",
   "metadata": {
    "papermill": {
     "duration": 0.030718,
     "end_time": "2021-02-04T21:15:33.268930",
     "exception": false,
     "start_time": "2021-02-04T21:15:33.238212",
     "status": "completed"
    },
    "tags": []
   },
   "source": [
    "Reviewing the fields and type of data"
   ]
  },
  {
   "cell_type": "code",
   "execution_count": 3,
   "metadata": {
    "execution": {
     "iopub.execute_input": "2021-02-04T21:15:33.338409Z",
     "iopub.status.busy": "2021-02-04T21:15:33.336258Z",
     "iopub.status.idle": "2021-02-04T21:15:33.344300Z",
     "shell.execute_reply": "2021-02-04T21:15:33.345023Z"
    },
    "papermill": {
     "duration": 0.043764,
     "end_time": "2021-02-04T21:15:33.345231",
     "exception": false,
     "start_time": "2021-02-04T21:15:33.301467",
     "status": "completed"
    },
    "tags": []
   },
   "outputs": [
    {
     "data": {
      "text/plain": [
       "550"
      ]
     },
     "execution_count": 3,
     "metadata": {},
     "output_type": "execute_result"
    }
   ],
   "source": [
    "len(best_b)"
   ]
  },
  {
   "cell_type": "code",
   "execution_count": 4,
   "metadata": {
    "execution": {
     "iopub.execute_input": "2021-02-04T21:15:33.414584Z",
     "iopub.status.busy": "2021-02-04T21:15:33.413701Z",
     "iopub.status.idle": "2021-02-04T21:15:33.423800Z",
     "shell.execute_reply": "2021-02-04T21:15:33.423120Z"
    },
    "papermill": {
     "duration": 0.046666,
     "end_time": "2021-02-04T21:15:33.423952",
     "exception": false,
     "start_time": "2021-02-04T21:15:33.377286",
     "status": "completed"
    },
    "tags": []
   },
   "outputs": [
    {
     "data": {
      "text/plain": [
       "Index(['Name', 'Author', 'User Rating', 'Reviews', 'Price', 'Year', 'Genre'], dtype='object')"
      ]
     },
     "execution_count": 4,
     "metadata": {},
     "output_type": "execute_result"
    }
   ],
   "source": [
    "best_b.columns"
   ]
  },
  {
   "cell_type": "markdown",
   "metadata": {
    "papermill": {
     "duration": 0.020747,
     "end_time": "2021-02-04T21:15:33.465990",
     "exception": false,
     "start_time": "2021-02-04T21:15:33.445243",
     "status": "completed"
    },
    "tags": []
   },
   "source": [
    "There are 550 rows contains the best selling book details. There are 7 columns\n",
    "\n",
    "Name - Name of the book\n",
    "Author - Author name of the book\n",
    "User Rating - Rating provided by the users ranging from 0 to 5\n",
    "Reviews - no of reviews recevied for the books. inspite of postivie or negative reviews.\n",
    "Year - Year in which the book is published\n",
    "Genere - Gener of the book whether it is Fiction or Non-Fictions\n"
   ]
  },
  {
   "cell_type": "code",
   "execution_count": 5,
   "metadata": {
    "execution": {
     "iopub.execute_input": "2021-02-04T21:15:33.526700Z",
     "iopub.status.busy": "2021-02-04T21:15:33.524901Z",
     "iopub.status.idle": "2021-02-04T21:15:33.533235Z",
     "shell.execute_reply": "2021-02-04T21:15:33.532318Z"
    },
    "papermill": {
     "duration": 0.04573,
     "end_time": "2021-02-04T21:15:33.533427",
     "exception": false,
     "start_time": "2021-02-04T21:15:33.487697",
     "status": "completed"
    },
    "tags": []
   },
   "outputs": [
    {
     "data": {
      "text/plain": [
       "<bound method DataFrame.info of                                                   Name  \\\n",
       "0                        10-Day Green Smoothie Cleanse   \n",
       "1                                    11/22/63: A Novel   \n",
       "2              12 Rules for Life: An Antidote to Chaos   \n",
       "3                               1984 (Signet Classics)   \n",
       "4    5,000 Awesome Facts (About Everything!) (Natio...   \n",
       "..                                                 ...   \n",
       "545       Wrecking Ball (Diary of a Wimpy Kid Book 14)   \n",
       "546  You Are a Badass: How to Stop Doubting Your Gr...   \n",
       "547  You Are a Badass: How to Stop Doubting Your Gr...   \n",
       "548  You Are a Badass: How to Stop Doubting Your Gr...   \n",
       "549  You Are a Badass: How to Stop Doubting Your Gr...   \n",
       "\n",
       "                       Author  User Rating  Reviews  Price  Year        Genre  \n",
       "0                    JJ Smith          4.7    17350      8  2016  Non Fiction  \n",
       "1                Stephen King          4.6     2052     22  2011      Fiction  \n",
       "2          Jordan B. Peterson          4.7    18979     15  2018  Non Fiction  \n",
       "3               George Orwell          4.7    21424      6  2017      Fiction  \n",
       "4    National Geographic Kids          4.8     7665     12  2019  Non Fiction  \n",
       "..                        ...          ...      ...    ...   ...          ...  \n",
       "545               Jeff Kinney          4.9     9413      8  2019      Fiction  \n",
       "546               Jen Sincero          4.7    14331      8  2016  Non Fiction  \n",
       "547               Jen Sincero          4.7    14331      8  2017  Non Fiction  \n",
       "548               Jen Sincero          4.7    14331      8  2018  Non Fiction  \n",
       "549               Jen Sincero          4.7    14331      8  2019  Non Fiction  \n",
       "\n",
       "[550 rows x 7 columns]>"
      ]
     },
     "execution_count": 5,
     "metadata": {},
     "output_type": "execute_result"
    }
   ],
   "source": [
    "best_b.info"
   ]
  },
  {
   "cell_type": "code",
   "execution_count": 6,
   "metadata": {
    "execution": {
     "iopub.execute_input": "2021-02-04T21:15:33.615083Z",
     "iopub.status.busy": "2021-02-04T21:15:33.613950Z",
     "iopub.status.idle": "2021-02-04T21:15:33.636818Z",
     "shell.execute_reply": "2021-02-04T21:15:33.637493Z"
    },
    "papermill": {
     "duration": 0.070664,
     "end_time": "2021-02-04T21:15:33.637782",
     "exception": false,
     "start_time": "2021-02-04T21:15:33.567118",
     "status": "completed"
    },
    "tags": []
   },
   "outputs": [
    {
     "data": {
      "text/html": [
       "<div>\n",
       "<style scoped>\n",
       "    .dataframe tbody tr th:only-of-type {\n",
       "        vertical-align: middle;\n",
       "    }\n",
       "\n",
       "    .dataframe tbody tr th {\n",
       "        vertical-align: top;\n",
       "    }\n",
       "\n",
       "    .dataframe thead th {\n",
       "        text-align: right;\n",
       "    }\n",
       "</style>\n",
       "<table border=\"1\" class=\"dataframe\">\n",
       "  <thead>\n",
       "    <tr style=\"text-align: right;\">\n",
       "      <th></th>\n",
       "      <th>User Rating</th>\n",
       "      <th>Reviews</th>\n",
       "      <th>Price</th>\n",
       "      <th>Year</th>\n",
       "    </tr>\n",
       "  </thead>\n",
       "  <tbody>\n",
       "    <tr>\n",
       "      <th>count</th>\n",
       "      <td>550.000000</td>\n",
       "      <td>550.000000</td>\n",
       "      <td>550.000000</td>\n",
       "      <td>550.000000</td>\n",
       "    </tr>\n",
       "    <tr>\n",
       "      <th>mean</th>\n",
       "      <td>4.618364</td>\n",
       "      <td>11953.281818</td>\n",
       "      <td>13.100000</td>\n",
       "      <td>2014.000000</td>\n",
       "    </tr>\n",
       "    <tr>\n",
       "      <th>std</th>\n",
       "      <td>0.226980</td>\n",
       "      <td>11731.132017</td>\n",
       "      <td>10.842262</td>\n",
       "      <td>3.165156</td>\n",
       "    </tr>\n",
       "    <tr>\n",
       "      <th>min</th>\n",
       "      <td>3.300000</td>\n",
       "      <td>37.000000</td>\n",
       "      <td>0.000000</td>\n",
       "      <td>2009.000000</td>\n",
       "    </tr>\n",
       "    <tr>\n",
       "      <th>25%</th>\n",
       "      <td>4.500000</td>\n",
       "      <td>4058.000000</td>\n",
       "      <td>7.000000</td>\n",
       "      <td>2011.000000</td>\n",
       "    </tr>\n",
       "    <tr>\n",
       "      <th>50%</th>\n",
       "      <td>4.700000</td>\n",
       "      <td>8580.000000</td>\n",
       "      <td>11.000000</td>\n",
       "      <td>2014.000000</td>\n",
       "    </tr>\n",
       "    <tr>\n",
       "      <th>75%</th>\n",
       "      <td>4.800000</td>\n",
       "      <td>17253.250000</td>\n",
       "      <td>16.000000</td>\n",
       "      <td>2017.000000</td>\n",
       "    </tr>\n",
       "    <tr>\n",
       "      <th>max</th>\n",
       "      <td>4.900000</td>\n",
       "      <td>87841.000000</td>\n",
       "      <td>105.000000</td>\n",
       "      <td>2019.000000</td>\n",
       "    </tr>\n",
       "  </tbody>\n",
       "</table>\n",
       "</div>"
      ],
      "text/plain": [
       "       User Rating       Reviews       Price         Year\n",
       "count   550.000000    550.000000  550.000000   550.000000\n",
       "mean      4.618364  11953.281818   13.100000  2014.000000\n",
       "std       0.226980  11731.132017   10.842262     3.165156\n",
       "min       3.300000     37.000000    0.000000  2009.000000\n",
       "25%       4.500000   4058.000000    7.000000  2011.000000\n",
       "50%       4.700000   8580.000000   11.000000  2014.000000\n",
       "75%       4.800000  17253.250000   16.000000  2017.000000\n",
       "max       4.900000  87841.000000  105.000000  2019.000000"
      ]
     },
     "execution_count": 6,
     "metadata": {},
     "output_type": "execute_result"
    }
   ],
   "source": [
    "best_b.describe()"
   ]
  },
  {
   "cell_type": "code",
   "execution_count": 7,
   "metadata": {
    "execution": {
     "iopub.execute_input": "2021-02-04T21:15:33.716135Z",
     "iopub.status.busy": "2021-02-04T21:15:33.715209Z",
     "iopub.status.idle": "2021-02-04T21:15:33.721484Z",
     "shell.execute_reply": "2021-02-04T21:15:33.720817Z"
    },
    "papermill": {
     "duration": 0.049019,
     "end_time": "2021-02-04T21:15:33.721626",
     "exception": false,
     "start_time": "2021-02-04T21:15:33.672607",
     "status": "completed"
    },
    "tags": []
   },
   "outputs": [
    {
     "data": {
      "text/plain": [
       "Name           0\n",
       "Author         0\n",
       "User Rating    0\n",
       "Reviews        0\n",
       "Price          0\n",
       "Year           0\n",
       "Genre          0\n",
       "dtype: int64"
      ]
     },
     "execution_count": 7,
     "metadata": {},
     "output_type": "execute_result"
    }
   ],
   "source": [
    "best_b.isnull().sum()"
   ]
  },
  {
   "cell_type": "markdown",
   "metadata": {
    "papermill": {
     "duration": 0.022381,
     "end_time": "2021-02-04T21:15:33.768229",
     "exception": false,
     "start_time": "2021-02-04T21:15:33.745848",
     "status": "completed"
    },
    "tags": []
   },
   "source": [
    "Glaring Issues\n",
    "Duplicates¶\n",
    "\n",
    "It's very common for bestselling books to get reissued/republished. It is necessary to filter out this kind of noise by either eliminating or merging."
   ]
  },
  {
   "cell_type": "code",
   "execution_count": 8,
   "metadata": {
    "execution": {
     "iopub.execute_input": "2021-02-04T21:15:33.824152Z",
     "iopub.status.busy": "2021-02-04T21:15:33.823445Z",
     "iopub.status.idle": "2021-02-04T21:15:33.833599Z",
     "shell.execute_reply": "2021-02-04T21:15:33.832951Z"
    },
    "papermill": {
     "duration": 0.04288,
     "end_time": "2021-02-04T21:15:33.833771",
     "exception": false,
     "start_time": "2021-02-04T21:15:33.790891",
     "status": "completed"
    },
    "tags": []
   },
   "outputs": [
    {
     "data": {
      "text/plain": [
       "(351, 7)"
      ]
     },
     "execution_count": 8,
     "metadata": {},
     "output_type": "execute_result"
    }
   ],
   "source": [
    "best_b.duplicated('Name')\n",
    "dup_df = best_b.drop_duplicates(subset = 'Name', keep = 'last', inplace = False)\n",
    "dup_df.shape"
   ]
  },
  {
   "cell_type": "code",
   "execution_count": 9,
   "metadata": {
    "execution": {
     "iopub.execute_input": "2021-02-04T21:15:33.888948Z",
     "iopub.status.busy": "2021-02-04T21:15:33.886209Z",
     "iopub.status.idle": "2021-02-04T21:15:33.895253Z",
     "shell.execute_reply": "2021-02-04T21:15:33.894604Z"
    },
    "papermill": {
     "duration": 0.038041,
     "end_time": "2021-02-04T21:15:33.895398",
     "exception": false,
     "start_time": "2021-02-04T21:15:33.857357",
     "status": "completed"
    },
    "tags": []
   },
   "outputs": [
    {
     "data": {
      "text/plain": [
       "0"
      ]
     },
     "execution_count": 9,
     "metadata": {},
     "output_type": "execute_result"
    }
   ],
   "source": [
    "dup_df.duplicated('Name').sum()"
   ]
  },
  {
   "cell_type": "markdown",
   "metadata": {
    "papermill": {
     "duration": 0.023655,
     "end_time": "2021-02-04T21:15:33.944041",
     "exception": false,
     "start_time": "2021-02-04T21:15:33.920386",
     "status": "completed"
    },
    "tags": []
   },
   "source": [
    "Let's explore the data by examining the authors. How many authors got into the list? How many books did they write? How many reviews did they get?"
   ]
  },
  {
   "cell_type": "code",
   "execution_count": 10,
   "metadata": {
    "execution": {
     "iopub.execute_input": "2021-02-04T21:15:34.000680Z",
     "iopub.status.busy": "2021-02-04T21:15:34.000036Z",
     "iopub.status.idle": "2021-02-04T21:15:34.017165Z",
     "shell.execute_reply": "2021-02-04T21:15:34.016545Z"
    },
    "papermill": {
     "duration": 0.048072,
     "end_time": "2021-02-04T21:15:34.017304",
     "exception": false,
     "start_time": "2021-02-04T21:15:33.969232",
     "status": "completed"
    },
    "tags": []
   },
   "outputs": [
    {
     "data": {
      "text/plain": [
       "Name           351\n",
       "Author         248\n",
       "User Rating     14\n",
       "Reviews        345\n",
       "Price           40\n",
       "Year            11\n",
       "Genre            2\n",
       "dtype: int64"
      ]
     },
     "execution_count": 10,
     "metadata": {},
     "output_type": "execute_result"
    }
   ],
   "source": [
    "dup_df.nunique()"
   ]
  },
  {
   "cell_type": "markdown",
   "metadata": {
    "papermill": {
     "duration": 0.024205,
     "end_time": "2021-02-04T21:15:34.066011",
     "exception": false,
     "start_time": "2021-02-04T21:15:34.041806",
     "status": "completed"
    },
    "tags": []
   },
   "source": [
    "There are 248 authors in this list, and they dished out 351 best selling books between 2009 and 2019. "
   ]
  },
  {
   "cell_type": "code",
   "execution_count": 11,
   "metadata": {
    "execution": {
     "iopub.execute_input": "2021-02-04T21:15:34.124068Z",
     "iopub.status.busy": "2021-02-04T21:15:34.123453Z",
     "iopub.status.idle": "2021-02-04T21:15:34.153206Z",
     "shell.execute_reply": "2021-02-04T21:15:34.152105Z"
    },
    "papermill": {
     "duration": 0.062817,
     "end_time": "2021-02-04T21:15:34.153375",
     "exception": false,
     "start_time": "2021-02-04T21:15:34.090558",
     "status": "completed"
    },
    "tags": []
   },
   "outputs": [
    {
     "data": {
      "text/plain": [
       "Non Fiction    56.363636\n",
       "Fiction        43.636364\n",
       "Name: Genre, dtype: float64"
      ]
     },
     "execution_count": 11,
     "metadata": {},
     "output_type": "execute_result"
    }
   ],
   "source": [
    "genre = best_b['Genre'].value_counts()/len(best_b)*100\n",
    "genre"
   ]
  },
  {
   "cell_type": "markdown",
   "metadata": {
    "papermill": {
     "duration": 0.024802,
     "end_time": "2021-02-04T21:15:34.203498",
     "exception": false,
     "start_time": "2021-02-04T21:15:34.178696",
     "status": "completed"
    },
    "tags": []
   },
   "source": [
    "****Pie plot to view the percentage of the different genre.\n",
    "\n",
    "The pie chat below shows that over the decade a higher percentage of books in the  non-fiction genre were published  "
   ]
  },
  {
   "cell_type": "markdown",
   "metadata": {
    "papermill": {
     "duration": 0.024948,
     "end_time": "2021-02-04T21:15:34.254265",
     "exception": false,
     "start_time": "2021-02-04T21:15:34.229317",
     "status": "completed"
    },
    "tags": []
   },
   "source": [
    "The code above shows that there are two genres of books in this dataset. Fiction and Non-fiction"
   ]
  },
  {
   "cell_type": "code",
   "execution_count": 12,
   "metadata": {
    "execution": {
     "iopub.execute_input": "2021-02-04T21:15:34.332470Z",
     "iopub.status.busy": "2021-02-04T21:15:34.326633Z",
     "iopub.status.idle": "2021-02-04T21:15:34.458213Z",
     "shell.execute_reply": "2021-02-04T21:15:34.457505Z"
    },
    "papermill": {
     "duration": 0.178771,
     "end_time": "2021-02-04T21:15:34.458359",
     "exception": false,
     "start_time": "2021-02-04T21:15:34.279588",
     "status": "completed"
    },
    "tags": []
   },
   "outputs": [
    {
     "data": {
      "image/png": "[encoded data removed]",
      "text/plain": [
       "<Figure size 432x288 with 1 Axes>"
      ]
     },
     "metadata": {},
     "output_type": "display_data"
    }
   ],
   "source": [
    "mylabels = ['fiction', 'non-fiction']\n",
    "plt.title('percentage of fiction to non-fiction genres')\n",
    "plt.pie(genre, autopct = '%1.1f%%', labels = mylabels)\n",
    "plt.show()"
   ]
  },
  {
   "cell_type": "markdown",
   "metadata": {
    "papermill": {
     "duration": 0.027068,
     "end_time": "2021-02-04T21:15:34.511951",
     "exception": false,
     "start_time": "2021-02-04T21:15:34.484883",
     "status": "completed"
    },
    "tags": []
   },
   "source": [
    "****Bar plot showing the trends over the years "
   ]
  },
  {
   "cell_type": "code",
   "execution_count": 13,
   "metadata": {
    "execution": {
     "iopub.execute_input": "2021-02-04T21:15:34.577411Z",
     "iopub.status.busy": "2021-02-04T21:15:34.576637Z",
     "iopub.status.idle": "2021-02-04T21:15:34.582060Z",
     "shell.execute_reply": "2021-02-04T21:15:34.581522Z"
    },
    "papermill": {
     "duration": 0.04403,
     "end_time": "2021-02-04T21:15:34.582178",
     "exception": false,
     "start_time": "2021-02-04T21:15:34.538148",
     "status": "completed"
    },
    "tags": []
   },
   "outputs": [
    {
     "data": {
      "text/html": [
       "<div>\n",
       "<style scoped>\n",
       "    .dataframe tbody tr th:only-of-type {\n",
       "        vertical-align: middle;\n",
       "    }\n",
       "\n",
       "    .dataframe tbody tr th {\n",
       "        vertical-align: top;\n",
       "    }\n",
       "\n",
       "    .dataframe thead th {\n",
       "        text-align: right;\n",
       "    }\n",
       "</style>\n",
       "<table border=\"1\" class=\"dataframe\">\n",
       "  <thead>\n",
       "    <tr style=\"text-align: right;\">\n",
       "      <th></th>\n",
       "      <th>Year</th>\n",
       "      <th>Genre</th>\n",
       "      <th>Name</th>\n",
       "    </tr>\n",
       "  </thead>\n",
       "  <tbody>\n",
       "    <tr>\n",
       "      <th>0</th>\n",
       "      <td>2016</td>\n",
       "      <td>Non Fiction</td>\n",
       "      <td>10-Day Green Smoothie Cleanse</td>\n",
       "    </tr>\n",
       "    <tr>\n",
       "      <th>1</th>\n",
       "      <td>2011</td>\n",
       "      <td>Fiction</td>\n",
       "      <td>11/22/63: A Novel</td>\n",
       "    </tr>\n",
       "    <tr>\n",
       "      <th>2</th>\n",
       "      <td>2018</td>\n",
       "      <td>Non Fiction</td>\n",
       "      <td>12 Rules for Life: An Antidote to Chaos</td>\n",
       "    </tr>\n",
       "    <tr>\n",
       "      <th>3</th>\n",
       "      <td>2017</td>\n",
       "      <td>Fiction</td>\n",
       "      <td>1984 (Signet Classics)</td>\n",
       "    </tr>\n",
       "    <tr>\n",
       "      <th>4</th>\n",
       "      <td>2019</td>\n",
       "      <td>Non Fiction</td>\n",
       "      <td>5,000 Awesome Facts (About Everything!) (Natio...</td>\n",
       "    </tr>\n",
       "    <tr>\n",
       "      <th>5</th>\n",
       "      <td>2011</td>\n",
       "      <td>Fiction</td>\n",
       "      <td>A Dance with Dragons (A Song of Ice and Fire)</td>\n",
       "    </tr>\n",
       "    <tr>\n",
       "      <th>6</th>\n",
       "      <td>2014</td>\n",
       "      <td>Fiction</td>\n",
       "      <td>A Game of Thrones / A Clash of Kings / A Storm...</td>\n",
       "    </tr>\n",
       "    <tr>\n",
       "      <th>7</th>\n",
       "      <td>2017</td>\n",
       "      <td>Fiction</td>\n",
       "      <td>A Gentleman in Moscow: A Novel</td>\n",
       "    </tr>\n",
       "    <tr>\n",
       "      <th>8</th>\n",
       "      <td>2018</td>\n",
       "      <td>Non Fiction</td>\n",
       "      <td>A Higher Loyalty: Truth, Lies, and Leadership</td>\n",
       "    </tr>\n",
       "    <tr>\n",
       "      <th>10</th>\n",
       "      <td>2017</td>\n",
       "      <td>Fiction</td>\n",
       "      <td>A Man Called Ove: A Novel</td>\n",
       "    </tr>\n",
       "  </tbody>\n",
       "</table>\n",
       "</div>"
      ],
      "text/plain": [
       "    Year        Genre                                               Name\n",
       "0   2016  Non Fiction                      10-Day Green Smoothie Cleanse\n",
       "1   2011      Fiction                                  11/22/63: A Novel\n",
       "2   2018  Non Fiction            12 Rules for Life: An Antidote to Chaos\n",
       "3   2017      Fiction                             1984 (Signet Classics)\n",
       "4   2019  Non Fiction  5,000 Awesome Facts (About Everything!) (Natio...\n",
       "5   2011      Fiction      A Dance with Dragons (A Song of Ice and Fire)\n",
       "6   2014      Fiction  A Game of Thrones / A Clash of Kings / A Storm...\n",
       "7   2017      Fiction                     A Gentleman in Moscow: A Novel\n",
       "8   2018  Non Fiction      A Higher Loyalty: Truth, Lies, and Leadership\n",
       "10  2017      Fiction                          A Man Called Ove: A Novel"
      ]
     },
     "execution_count": 13,
     "metadata": {},
     "output_type": "execute_result"
    }
   ],
   "source": [
    "genrecount = dup_df[['Year', 'Genre', 'Name']]\n",
    "genrecount.head(10)"
   ]
  },
  {
   "cell_type": "code",
   "execution_count": 14,
   "metadata": {
    "execution": {
     "iopub.execute_input": "2021-02-04T21:15:34.654293Z",
     "iopub.status.busy": "2021-02-04T21:15:34.644880Z",
     "iopub.status.idle": "2021-02-04T21:15:35.070799Z",
     "shell.execute_reply": "2021-02-04T21:15:35.070138Z"
    },
    "papermill": {
     "duration": 0.462055,
     "end_time": "2021-02-04T21:15:35.070950",
     "exception": false,
     "start_time": "2021-02-04T21:15:34.608895",
     "status": "completed"
    },
    "tags": []
   },
   "outputs": [
    {
     "data": {
      "text/plain": [
       "Text(0, 0.5, 'Number of Books')"
      ]
     },
     "execution_count": 14,
     "metadata": {},
     "output_type": "execute_result"
    },
    {
     "data": {
      "image/png": "[encoded data removed]",
      "text/plain": [
       "<Figure size 576x576 with 1 Axes>"
      ]
     },
     "metadata": {
      "needs_background": "light"
     },
     "output_type": "display_data"
    }
   ],
   "source": [
    "genreplot = genrecount.groupby(by = ['Year','Genre']).count()['Name']\n",
    "ax = genreplot.unstack('Genre').plot.bar(stacked = True, figsize = (8, 8))\n",
    "ax.legend(['Fiction', 'Non Fiction'], loc = 'best')\n",
    "ax.set_ylabel('Number of Books')"
   ]
  },
  {
   "cell_type": "markdown",
   "metadata": {
    "papermill": {
     "duration": 0.028998,
     "end_time": "2021-02-04T21:15:35.128738",
     "exception": false,
     "start_time": "2021-02-04T21:15:35.099740",
     "status": "completed"
    },
    "tags": []
   },
   "source": [
    "The table above shows that both fiction and non fiction were quite popular amongst users except in year 2014 where fiction was remarkably higher than non-fiction.  "
   ]
  },
  {
   "cell_type": "code",
   "execution_count": 15,
   "metadata": {
    "execution": {
     "iopub.execute_input": "2021-02-04T21:15:35.201357Z",
     "iopub.status.busy": "2021-02-04T21:15:35.193454Z",
     "iopub.status.idle": "2021-02-04T21:15:35.225596Z",
     "shell.execute_reply": "2021-02-04T21:15:35.224865Z"
    },
    "papermill": {
     "duration": 0.068073,
     "end_time": "2021-02-04T21:15:35.225758",
     "exception": false,
     "start_time": "2021-02-04T21:15:35.157685",
     "status": "completed"
    },
    "tags": []
   },
   "outputs": [
    {
     "data": {
      "text/html": [
       "<div>\n",
       "<style scoped>\n",
       "    .dataframe tbody tr th:only-of-type {\n",
       "        vertical-align: middle;\n",
       "    }\n",
       "\n",
       "    .dataframe tbody tr th {\n",
       "        vertical-align: top;\n",
       "    }\n",
       "\n",
       "    .dataframe thead th {\n",
       "        text-align: right;\n",
       "    }\n",
       "</style>\n",
       "<table border=\"1\" class=\"dataframe\">\n",
       "  <thead>\n",
       "    <tr style=\"text-align: right;\">\n",
       "      <th>Year</th>\n",
       "      <th>2009</th>\n",
       "      <th>2010</th>\n",
       "      <th>2011</th>\n",
       "      <th>2012</th>\n",
       "      <th>2013</th>\n",
       "      <th>2014</th>\n",
       "      <th>2015</th>\n",
       "      <th>2016</th>\n",
       "      <th>2017</th>\n",
       "      <th>2018</th>\n",
       "      <th>2019</th>\n",
       "    </tr>\n",
       "    <tr>\n",
       "      <th>Genre</th>\n",
       "      <th></th>\n",
       "      <th></th>\n",
       "      <th></th>\n",
       "      <th></th>\n",
       "      <th></th>\n",
       "      <th></th>\n",
       "      <th></th>\n",
       "      <th></th>\n",
       "      <th></th>\n",
       "      <th></th>\n",
       "      <th></th>\n",
       "    </tr>\n",
       "  </thead>\n",
       "  <tbody>\n",
       "    <tr>\n",
       "      <th>Fiction</th>\n",
       "      <td>17.550000</td>\n",
       "      <td>9.571429</td>\n",
       "      <td>11.600000</td>\n",
       "      <td>13.857143</td>\n",
       "      <td>11.923077</td>\n",
       "      <td>11.5</td>\n",
       "      <td>11.000000</td>\n",
       "      <td>19.777778</td>\n",
       "      <td>9.384615</td>\n",
       "      <td>9.000000</td>\n",
       "      <td>9.350000</td>\n",
       "    </tr>\n",
       "    <tr>\n",
       "      <th>Non Fiction</th>\n",
       "      <td>13.555556</td>\n",
       "      <td>13.526316</td>\n",
       "      <td>17.416667</td>\n",
       "      <td>15.888889</td>\n",
       "      <td>11.733333</td>\n",
       "      <td>28.5</td>\n",
       "      <td>8.894737</td>\n",
       "      <td>13.352941</td>\n",
       "      <td>14.562500</td>\n",
       "      <td>12.777778</td>\n",
       "      <td>10.482759</td>\n",
       "    </tr>\n",
       "  </tbody>\n",
       "</table>\n",
       "</div>"
      ],
      "text/plain": [
       "Year              2009       2010       2011       2012       2013  2014  \\\n",
       "Genre                                                                      \n",
       "Fiction      17.550000   9.571429  11.600000  13.857143  11.923077  11.5   \n",
       "Non Fiction  13.555556  13.526316  17.416667  15.888889  11.733333  28.5   \n",
       "\n",
       "Year              2015       2016       2017       2018       2019  \n",
       "Genre                                                               \n",
       "Fiction      11.000000  19.777778   9.384615   9.000000   9.350000  \n",
       "Non Fiction   8.894737  13.352941  14.562500  12.777778  10.482759  "
      ]
     },
     "execution_count": 15,
     "metadata": {},
     "output_type": "execute_result"
    }
   ],
   "source": [
    "year_genre = pd.pivot_table(data = dup_df, \n",
    "                            columns = 'Year',\n",
    "                            index = 'Genre', \n",
    "                            values = 'Price',\n",
    "                            aggfunc=np.mean)\n",
    "year_genre"
   ]
  },
  {
   "cell_type": "code",
   "execution_count": 16,
   "metadata": {
    "execution": {
     "iopub.execute_input": "2021-02-04T21:15:35.312755Z",
     "iopub.status.busy": "2021-02-04T21:15:35.312087Z",
     "iopub.status.idle": "2021-02-04T21:15:35.720842Z",
     "shell.execute_reply": "2021-02-04T21:15:35.721419Z"
    },
    "papermill": {
     "duration": 0.467481,
     "end_time": "2021-02-04T21:15:35.721585",
     "exception": false,
     "start_time": "2021-02-04T21:15:35.254104",
     "status": "completed"
    },
    "tags": []
   },
   "outputs": [
    {
     "data": {
      "image/png": "[encoded data removed]",
      "text/plain": [
       "<Figure size 1296x576 with 2 Axes>"
      ]
     },
     "metadata": {
      "needs_background": "light"
     },
     "output_type": "display_data"
    }
   ],
   "source": [
    "plt.figure(figsize=[18,8])\n",
    "cmap = sns.light_palette('purple', as_cmap = True)\n",
    "sns.heatmap(year_genre,cmap = cmap,center = 10)\n",
    "plt.yticks(rotation = 0)\n",
    "plt.title('Price trend of the different Genre over the years',fontsize = 20)\n",
    "plt.show()"
   ]
  },
  {
   "cell_type": "markdown",
   "metadata": {
    "papermill": {
     "duration": 0.029326,
     "end_time": "2021-02-04T21:15:35.780292",
     "exception": false,
     "start_time": "2021-02-04T21:15:35.750966",
     "status": "completed"
    },
    "tags": []
   },
   "source": []
  },
  {
   "cell_type": "markdown",
   "metadata": {
    "papermill": {
     "duration": 0.0289,
     "end_time": "2021-02-04T21:15:35.838336",
     "exception": false,
     "start_time": "2021-02-04T21:15:35.809436",
     "status": "completed"
    },
    "tags": []
   },
   "source": [
    "****Bar plot showing the top ten authors of the decade based on reveiws"
   ]
  },
  {
   "cell_type": "code",
   "execution_count": 17,
   "metadata": {
    "execution": {
     "iopub.execute_input": "2021-02-04T21:15:35.918079Z",
     "iopub.status.busy": "2021-02-04T21:15:35.916616Z",
     "iopub.status.idle": "2021-02-04T21:15:35.923278Z",
     "shell.execute_reply": "2021-02-04T21:15:35.923890Z"
    },
    "papermill": {
     "duration": 0.056451,
     "end_time": "2021-02-04T21:15:35.924067",
     "exception": false,
     "start_time": "2021-02-04T21:15:35.867616",
     "status": "completed"
    },
    "tags": []
   },
   "outputs": [
    {
     "data": {
      "text/html": [
       "<div>\n",
       "<style scoped>\n",
       "    .dataframe tbody tr th:only-of-type {\n",
       "        vertical-align: middle;\n",
       "    }\n",
       "\n",
       "    .dataframe tbody tr th {\n",
       "        vertical-align: top;\n",
       "    }\n",
       "\n",
       "    .dataframe thead th {\n",
       "        text-align: right;\n",
       "    }\n",
       "</style>\n",
       "<table border=\"1\" class=\"dataframe\">\n",
       "  <thead>\n",
       "    <tr style=\"text-align: right;\">\n",
       "      <th></th>\n",
       "      <th>Author</th>\n",
       "      <th>Reviews</th>\n",
       "    </tr>\n",
       "  </thead>\n",
       "  <tbody>\n",
       "    <tr>\n",
       "      <th>0</th>\n",
       "      <td>E L James</td>\n",
       "      <td>130746</td>\n",
       "    </tr>\n",
       "    <tr>\n",
       "      <th>1</th>\n",
       "      <td>Suzanne Collins</td>\n",
       "      <td>130548</td>\n",
       "    </tr>\n",
       "    <tr>\n",
       "      <th>2</th>\n",
       "      <td>Delia Owens</td>\n",
       "      <td>87841</td>\n",
       "    </tr>\n",
       "    <tr>\n",
       "      <th>3</th>\n",
       "      <td>Paula Hawkins</td>\n",
       "      <td>79446</td>\n",
       "    </tr>\n",
       "    <tr>\n",
       "      <th>4</th>\n",
       "      <td>J.K. Rowling</td>\n",
       "      <td>70535</td>\n",
       "    </tr>\n",
       "    <tr>\n",
       "      <th>...</th>\n",
       "      <td>...</td>\n",
       "      <td>...</td>\n",
       "    </tr>\n",
       "    <tr>\n",
       "      <th>243</th>\n",
       "      <td>Larry Schweikart</td>\n",
       "      <td>460</td>\n",
       "    </tr>\n",
       "    <tr>\n",
       "      <th>244</th>\n",
       "      <td>Jon Stewart</td>\n",
       "      <td>440</td>\n",
       "    </tr>\n",
       "    <tr>\n",
       "      <th>245</th>\n",
       "      <td>Edward M. Kennedy</td>\n",
       "      <td>438</td>\n",
       "    </tr>\n",
       "    <tr>\n",
       "      <th>246</th>\n",
       "      <td>Peter A. Lillback</td>\n",
       "      <td>408</td>\n",
       "    </tr>\n",
       "    <tr>\n",
       "      <th>247</th>\n",
       "      <td>Zhi Gang Sha</td>\n",
       "      <td>257</td>\n",
       "    </tr>\n",
       "  </tbody>\n",
       "</table>\n",
       "<p>248 rows × 2 columns</p>\n",
       "</div>"
      ],
      "text/plain": [
       "                Author  Reviews\n",
       "0            E L James   130746\n",
       "1      Suzanne Collins   130548\n",
       "2          Delia Owens    87841\n",
       "3        Paula Hawkins    79446\n",
       "4         J.K. Rowling    70535\n",
       "..                 ...      ...\n",
       "243   Larry Schweikart      460\n",
       "244        Jon Stewart      440\n",
       "245  Edward M. Kennedy      438\n",
       "246  Peter A. Lillback      408\n",
       "247       Zhi Gang Sha      257\n",
       "\n",
       "[248 rows x 2 columns]"
      ]
     },
     "execution_count": 17,
     "metadata": {},
     "output_type": "execute_result"
    }
   ],
   "source": [
    "AR = dup_df.groupby(['Author']).agg({\"Reviews\":\"sum\"}).sort_values([\"Reviews\"], ascending = False).reset_index()\n",
    "AR"
   ]
  },
  {
   "cell_type": "code",
   "execution_count": 18,
   "metadata": {
    "execution": {
     "iopub.execute_input": "2021-02-04T21:15:35.988049Z",
     "iopub.status.busy": "2021-02-04T21:15:35.987413Z",
     "iopub.status.idle": "2021-02-04T21:15:36.248261Z",
     "shell.execute_reply": "2021-02-04T21:15:36.247347Z"
    },
    "papermill": {
     "duration": 0.293924,
     "end_time": "2021-02-04T21:15:36.248411",
     "exception": false,
     "start_time": "2021-02-04T21:15:35.954487",
     "status": "completed"
    },
    "tags": []
   },
   "outputs": [
    {
     "data": {
      "image/png": "[encoded data removed]",
      "text/plain": [
       "<Figure size 720x360 with 1 Axes>"
      ]
     },
     "metadata": {
      "needs_background": "light"
     },
     "output_type": "display_data"
    }
   ],
   "source": [
    "name = AR['Author'].head(10)\n",
    "review = AR['Reviews'].head(10)\n",
    "   \n",
    "fig = plt.figure(figsize = (10, 5)) \n",
    "plt.bar(name, review, color ='maroon',width = 0.35)  \n",
    "plt.xlabel(\"names of authors\") \n",
    "plt.ylabel(\"no of reviews\") \n",
    "plt.xticks(rotation = 80,weight = 'bold', size = 8)\n",
    "plt.title(\"Top Authors according to reviews\") \n",
    "plt.show() "
   ]
  },
  {
   "cell_type": "markdown",
   "metadata": {
    "papermill": {
     "duration": 0.031573,
     "end_time": "2021-02-04T21:15:36.312401",
     "exception": false,
     "start_time": "2021-02-04T21:15:36.280828",
     "status": "completed"
    },
    "tags": []
   },
   "source": [
    "****Bar plot showing the best selling books of the decade"
   ]
  },
  {
   "cell_type": "code",
   "execution_count": 19,
   "metadata": {
    "execution": {
     "iopub.execute_input": "2021-02-04T21:15:36.383113Z",
     "iopub.status.busy": "2021-02-04T21:15:36.382451Z",
     "iopub.status.idle": "2021-02-04T21:15:36.398370Z",
     "shell.execute_reply": "2021-02-04T21:15:36.398874Z"
    },
    "papermill": {
     "duration": 0.055041,
     "end_time": "2021-02-04T21:15:36.399058",
     "exception": false,
     "start_time": "2021-02-04T21:15:36.344017",
     "status": "completed"
    },
    "tags": []
   },
   "outputs": [
    {
     "data": {
      "text/html": [
       "<div>\n",
       "<style scoped>\n",
       "    .dataframe tbody tr th:only-of-type {\n",
       "        vertical-align: middle;\n",
       "    }\n",
       "\n",
       "    .dataframe tbody tr th {\n",
       "        vertical-align: top;\n",
       "    }\n",
       "\n",
       "    .dataframe thead th {\n",
       "        text-align: right;\n",
       "    }\n",
       "</style>\n",
       "<table border=\"1\" class=\"dataframe\">\n",
       "  <thead>\n",
       "    <tr style=\"text-align: right;\">\n",
       "      <th></th>\n",
       "      <th>Name</th>\n",
       "      <th>Price</th>\n",
       "    </tr>\n",
       "  </thead>\n",
       "  <tbody>\n",
       "    <tr>\n",
       "      <th>0</th>\n",
       "      <td>Diagnostic and Statistical Manual of Mental Di...</td>\n",
       "      <td>105</td>\n",
       "    </tr>\n",
       "    <tr>\n",
       "      <th>1</th>\n",
       "      <td>The Twilight Saga Collection</td>\n",
       "      <td>82</td>\n",
       "    </tr>\n",
       "    <tr>\n",
       "      <th>2</th>\n",
       "      <td>Hamilton: The Revolution</td>\n",
       "      <td>54</td>\n",
       "    </tr>\n",
       "    <tr>\n",
       "      <th>3</th>\n",
       "      <td>The Book of Basketball: The NBA According to T...</td>\n",
       "      <td>53</td>\n",
       "    </tr>\n",
       "    <tr>\n",
       "      <th>4</th>\n",
       "      <td>Harry Potter Paperback Box Set (Books 1-7)</td>\n",
       "      <td>52</td>\n",
       "    </tr>\n",
       "    <tr>\n",
       "      <th>...</th>\n",
       "      <td>...</td>\n",
       "      <td>...</td>\n",
       "    </tr>\n",
       "    <tr>\n",
       "      <th>346</th>\n",
       "      <td>Little Blue Truck</td>\n",
       "      <td>0</td>\n",
       "    </tr>\n",
       "    <tr>\n",
       "      <th>347</th>\n",
       "      <td>The Short Second Life of Bree Tanner: An Eclip...</td>\n",
       "      <td>0</td>\n",
       "    </tr>\n",
       "    <tr>\n",
       "      <th>348</th>\n",
       "      <td>Frozen (Little Golden Book)</td>\n",
       "      <td>0</td>\n",
       "    </tr>\n",
       "    <tr>\n",
       "      <th>349</th>\n",
       "      <td>Cabin Fever (Diary of a Wimpy Kid, Book 6)</td>\n",
       "      <td>0</td>\n",
       "    </tr>\n",
       "    <tr>\n",
       "      <th>350</th>\n",
       "      <td>The Getaway</td>\n",
       "      <td>0</td>\n",
       "    </tr>\n",
       "  </tbody>\n",
       "</table>\n",
       "<p>351 rows × 2 columns</p>\n",
       "</div>"
      ],
      "text/plain": [
       "                                                  Name  Price\n",
       "0    Diagnostic and Statistical Manual of Mental Di...    105\n",
       "1                         The Twilight Saga Collection     82\n",
       "2                             Hamilton: The Revolution     54\n",
       "3    The Book of Basketball: The NBA According to T...     53\n",
       "4           Harry Potter Paperback Box Set (Books 1-7)     52\n",
       "..                                                 ...    ...\n",
       "346                                  Little Blue Truck      0\n",
       "347  The Short Second Life of Bree Tanner: An Eclip...      0\n",
       "348                        Frozen (Little Golden Book)      0\n",
       "349         Cabin Fever (Diary of a Wimpy Kid, Book 6)      0\n",
       "350                                        The Getaway      0\n",
       "\n",
       "[351 rows x 2 columns]"
      ]
     },
     "execution_count": 19,
     "metadata": {},
     "output_type": "execute_result"
    }
   ],
   "source": [
    "Bp = dup_df.groupby(['Name']).agg({\"Price\":\"sum\"}).sort_values([\"Price\"], ascending = False).reset_index()\n",
    "Bp"
   ]
  },
  {
   "cell_type": "code",
   "execution_count": 20,
   "metadata": {
    "execution": {
     "iopub.execute_input": "2021-02-04T21:15:36.531883Z",
     "iopub.status.busy": "2021-02-04T21:15:36.516757Z",
     "iopub.status.idle": "2021-02-04T21:15:36.744156Z",
     "shell.execute_reply": "2021-02-04T21:15:36.743475Z"
    },
    "papermill": {
     "duration": 0.311484,
     "end_time": "2021-02-04T21:15:36.744298",
     "exception": false,
     "start_time": "2021-02-04T21:15:36.432814",
     "status": "completed"
    },
    "tags": []
   },
   "outputs": [
    {
     "data": {
      "image/png": "[encoded data removed]",
      "text/plain": [
       "<Figure size 720x360 with 1 Axes>"
      ]
     },
     "metadata": {
      "needs_background": "light"
     },
     "output_type": "display_data"
    }
   ],
   "source": [
    "name = Bp ['Name'].head(10)\n",
    "price = Bp ['Price'].head(10)\n",
    "   \n",
    "fig = plt.figure(figsize = (10, 5)) \n",
    "plt.bar(name, price, color ='maroon',width = 0.4) \n",
    "plt.xlabel(\"Book Titles\") \n",
    "plt.ylabel(\"Price\") \n",
    "plt.xticks(rotation = 80, weight ='bold', size=8)\n",
    "plt.title(\"Best Selling books \") \n",
    "plt.show() "
   ]
  }
 ],
 "metadata": {
  "kernelspec": {
   "display_name": "Python 3",
   "language": "python",
   "name": "python3"
  },
  "language_info": {
   "codemirror_mode": {
    "name": "ipython",
    "version": 3
   },
   "file_extension": ".py",
   "mimetype": "text/x-python",
   "name": "python",
   "nbconvert_exporter": "python",
   "pygments_lexer": "ipython3",
   "version": "3.7.9"
  },
  "papermill": {
   "default_parameters": {},
   "duration": 12.472719,
   "end_time": "2021-02-04T21:15:37.391709",
   "environment_variables": {},
   "exception": null,
   "input_path": "__notebook__.ipynb",
   "output_path": "__notebook__.ipynb",
   "parameters": {},
   "start_time": "2021-02-04T21:15:24.918990",
   "version": "2.2.2"
  }
 },
 "nbformat": 4,
 "nbformat_minor": 4
}
